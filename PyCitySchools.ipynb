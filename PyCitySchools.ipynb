{
 "cells": [
  {
   "cell_type": "code",
   "execution_count": null,
   "metadata": {},
   "outputs": [],
   "source": [
    "# Dependencies and Setup\n",
    "import pandas as pd\n",
    "import numpy \n",
    "\n",
    "# File to Load (Remember to Change These)\n",
    "school_data_to_load = \"Resources/schools_complete.csv\"\n",
    "student_data_to_load = \"Resources/students_complete.csv\"\n",
    "\n",
    "# Read School and Student Data File and store into Pandas DataFrames\n",
    "school_data = pd.read_csv(school_data_to_load)\n",
    "student_data = pd.read_csv(student_data_to_load)\n",
    "\n",
    "# Combine the data into a single dataset.  \n",
    "school_data_complete = pd.merge(student_data, school_data, how=\"left\", on=[\"school_name\", \"school_name\"])"
   ]
  },
  {
   "cell_type": "code",
   "execution_count": null,
   "metadata": {},
   "outputs": [],
   "source": [
    "#create dataframe\n",
    "a_school_df = pd.DataFrame(school_data_complete)\n",
    "\n",
    "school_df = a_school_df.sort_values(\"school_name\")\n",
    "\n"
   ]
  },
  {
   "cell_type": "code",
   "execution_count": null,
   "metadata": {},
   "outputs": [],
   "source": [
    "#create school type dataframe\n",
    "school_info_df = pd.DataFrame(school_data)\n",
    "school_type_df = school_info_df[[\"school_name\", \"type\"]]\n",
    "school_type_df.columns = [\"school_name\", \"Type\"]\n"
   ]
  },
  {
   "cell_type": "markdown",
   "metadata": {},
   "source": [
    "## District Summary"
   ]
  },
  {
   "cell_type": "code",
   "execution_count": null,
   "metadata": {},
   "outputs": [],
   "source": [
    "#total number of schools\n",
    "total_schools = len(school_df[\"school_name\"].unique())\n",
    "#total number of students\n",
    "total_students = len(school_df[\"student_name\"])\n",
    "#total budget for all schools\n",
    "total_budget = sum(school_df[\"budget\"].unique())\n",
    "#average math scores\n",
    "avg_math = school_df[\"math_score\"].mean()\n",
    "#average reading scores\n",
    "avg_read = school_df[\"reading_score\"].mean()\n",
    "#Percent of students passing math\n",
    "school_df['math_score'] = school_df.loc[:, \"math_score\"].astype(float)\n",
    "perc_pass_math = len(school_df[school_df['math_score'] >= 70]) / total_students * 100\n",
    "#percent of students passing reading\n",
    "school_df['reading_score'] = school_df.loc[:, \"reading_score\"].astype(float)\n",
    "perc_pass_read = len(school_df[school_df['reading_score'] >= 70]) / total_students * 100"
   ]
  },
  {
   "cell_type": "code",
   "execution_count": null,
   "metadata": {},
   "outputs": [],
   "source": [
    "#percent of students passing both reading and math                     \n",
    "perc_pass_overall_df = school_df.loc[(school_df['math_score']>=70)& (school_df['reading_score']>= 70)]\n",
    "perc_pass_overall = len(perc_pass_overall_df['Student ID'])/total_students * 100"
   ]
  },
  {
   "cell_type": "code",
   "execution_count": null,
   "metadata": {},
   "outputs": [],
   "source": [
    "#creation of district summary dataframe\n",
    "district_summary_df = pd.DataFrame([{\n",
    "    \"Total Number of Schools\": total_schools,\n",
    "    \"Total Number of Students\": total_students, \n",
    "    \"Total Budget\": total_budget, \n",
    "    \"Average Math Scores\": avg_math, \n",
    "    \"Average Reading Scores\": avg_read, \n",
    "    \"% Passing Math\": perc_pass_math,\n",
    "    \"% Passing Reading\": perc_pass_read, \n",
    "    \"% Passing Overall\": perc_pass_overall\n",
    "    }])\n"
   ]
  },
  {
   "cell_type": "markdown",
   "metadata": {},
   "source": [
    "## School Summary"
   ]
  },
  {
   "cell_type": "code",
   "execution_count": null,
   "metadata": {},
   "outputs": [],
   "source": [
    "#grouped by school name\n",
    "grouped_school_data_df = school_df.groupby([\"school_name\"])\n"
   ]
  },
  {
   "cell_type": "code",
   "execution_count": null,
   "metadata": {},
   "outputs": [],
   "source": [
    "#number of students per school\n",
    "school_students = grouped_school_data_df[\"Student ID\"].count()\n",
    "#budget per school\n",
    "school_budget = school_df[\"budget\"].unique()\n",
    "#average math score per school\n",
    "avg_math_score = grouped_school_data_df[\"math_score\"].mean()\n",
    "#average reading score per school\n",
    "avg_read_score = grouped_school_data_df[\"reading_score\"].mean()\n",
    "#school_type"
   ]
  },
  {
   "cell_type": "code",
   "execution_count": null,
   "metadata": {},
   "outputs": [],
   "source": [
    "#find passing math scores\n",
    "pass_math_df = school_df.loc[(school_df['math_score']>= 70)]\n",
    "#grouped passing math scores by school name\n",
    "grouped_pass_math_school = pass_math_df.groupby('school_name')\n",
    "#count # of passing grades and calculate percentage\n",
    "pass_math_school= grouped_pass_math_school.count()\n",
    "perc_pass_math_school = pass_math_school['Student ID']/school_students * 100\n",
    "#find passing reading scores\n",
    "pass_read_df = school_df.loc[(school_df['reading_score']>= 70)]\n",
    "#grouped passing reading score by school name\n",
    "grouped_read_math_school = pass_read_df.groupby('school_name')\n",
    "#count # of passing grades and calculate percentage\n",
    "pass_read_school= grouped_read_math_school.count()\n",
    "perc_pass_read_school = pass_read_school['Student ID']/school_students * 100\n"
   ]
  },
  {
   "cell_type": "code",
   "execution_count": null,
   "metadata": {},
   "outputs": [],
   "source": [
    "# grouped overall passing grades by school\n",
    "grouped_overall_pass_df = perc_pass_overall_df.groupby([\"school_name\"])\n",
    "# count how many passed both\n",
    "overall_pass = grouped_overall_pass_df.count()\n",
    "overall_pass_school = overall_pass['Student ID']/school_students * 100                                \n",
    "                                                                             "
   ]
  },
  {
   "cell_type": "code",
   "execution_count": null,
   "metadata": {},
   "outputs": [],
   "source": [
    "#creation of school summary dataframe\n",
    "school_summary_df = pd.DataFrame({\n",
    "    \"Number of Students\":school_students,\n",
    "    \"School Budget\": school_budget,\n",
    "    \"Per Student Budget\": school_budget/school_students,\n",
    "    \"Average Math Score\" : avg_math_score, \n",
    "    \"Average Reading Score\" : avg_read_score,\n",
    "    \"% Passing Math\": perc_pass_math_school,\n",
    "    \"% Passing Reading\": perc_pass_read_school,\n",
    "    '% Passing Overall': overall_pass_school\n",
    "})\n",
    "merged_school_summary_df = pd.merge(school_type_df, school_summary_df, on=\"school_name\")\n"
   ]
  },
  {
   "cell_type": "markdown",
   "metadata": {},
   "source": [
    "## Math Scores by Grade"
   ]
  },
  {
   "cell_type": "code",
   "execution_count": null,
   "metadata": {},
   "outputs": [],
   "source": [
    "#found all 9th grade\n",
    "by_grade_df = school_df.loc[school_df[\"grade\"] == '9th']\n",
    "#grouped by school\n",
    "ninth_grade_df = by_grade_df.groupby([\"school_name\"])\n",
    "#calculate avgerages\n",
    "avg_ninth = ninth_grade_df.mean()\n",
    "\n",
    "#found all 10th grade\n",
    "by_grade_df = school_df.loc[school_df[\"grade\"] == '10th']\n",
    "#grouped by school\n",
    "tenth_grade_df = by_grade_df.groupby([\"school_name\"])\n",
    "#calculate avgerages\n",
    "avg_tenth = tenth_grade_df.mean()\n",
    "\n",
    "#found all 11th grade\n",
    "by_grade_df = school_df.loc[school_df[\"grade\"] == '11th']\n",
    "#grouped by school\n",
    "eleventh_grade_df = by_grade_df.groupby([\"school_name\"])\n",
    "#calculate avgerages\n",
    "avg_eleventh = eleventh_grade_df.mean()\n",
    "\n",
    "#found all 12th grade\n",
    "by_grade_df = school_df.loc[school_df[\"grade\"] == '12th']\n",
    "#grouped by school\n",
    "twelth_grade_df = by_grade_df.groupby([\"school_name\"])\n",
    "#calculate avgerages\n",
    "avg_twelth = twelth_grade_df.mean()\n"
   ]
  },
  {
   "cell_type": "code",
   "execution_count": null,
   "metadata": {},
   "outputs": [],
   "source": [
    "#creation of math scores by grade per school\n",
    "avg_math_by_grade_df = pd.DataFrame({\"9th\": avg_ninth['math_score'],\n",
    "                                 \"10th\": avg_tenth['math_score'],\n",
    "                                 \"11th\": avg_eleventh['math_score'],\n",
    "                                 \"12th\": avg_twelth['math_score']\n",
    "                                 })"
   ]
  },
  {
   "cell_type": "markdown",
   "metadata": {},
   "source": [
    "## Reading Scores by Grade"
   ]
  },
  {
   "cell_type": "code",
   "execution_count": null,
   "metadata": {},
   "outputs": [],
   "source": [
    "#creation of reading scores by grade per school\n",
    "avg_read_by_grade_df = pd.DataFrame({\"9th\": avg_ninth['reading_score'],\n",
    "                                 \"10th\": avg_tenth['reading_score'],\n",
    "                                 \"11th\": avg_eleventh['reading_score'],\n",
    "                                 \"12th\": avg_twelth['reading_score']\n",
    "                                 })"
   ]
  },
  {
   "cell_type": "markdown",
   "metadata": {},
   "source": [
    "## Scores by School Spending"
   ]
  },
  {
   "cell_type": "code",
   "execution_count": null,
   "metadata": {},
   "outputs": [],
   "source": [
    "#create bins for budget ranges\n",
    "bins = [0, 585, 630, 645, 680]\n",
    "bin_names = [\"<$585\", \"$585-630\", \"$630-645\", \"$645-680\"]\n",
    "#adding column with budget ranges\n",
    "merged_school_summary_df[\"Spending Range (per student)\"] = pd.cut(merged_school_summary_df[\"Per Student Budget\"], bins, labels=bin_names, include_lowest=True)\n",
    "#grouped by budget ranges\n",
    "grouped_school_summary_df = merged_school_summary_df.groupby(\"Spending Range (per student)\")\n"
   ]
  },
  {
   "cell_type": "code",
   "execution_count": null,
   "metadata": {},
   "outputs": [],
   "source": [
    "#creation of average scores by budget\n",
    "score_by_budget_df = pd.DataFrame({\"Average Math Score\": grouped_school_summary_df[\"Average Math Score\"].mean(),\n",
    "                                  \"Average Reading Score\": grouped_school_summary_df[\"Average Reading Score\"].mean(),\n",
    "                                  \"% Passing Math\": grouped_school_summary_df[\"% Passing Math\"].mean(),\n",
    "                                  \"% Passing Reading\": grouped_school_summary_df[\"% Passing Reading\"].mean(),\n",
    "                                   \"% Passing Overall\": grouped_school_summary_df[\"% Passing Overall\"].mean()\n",
    "                                  })"
   ]
  },
  {
   "cell_type": "markdown",
   "metadata": {},
   "source": [
    "## Scores by School size"
   ]
  },
  {
   "cell_type": "code",
   "execution_count": null,
   "metadata": {},
   "outputs": [],
   "source": [
    "#create bins for school size ranges\n",
    "bins = [0, 1000, 2000, 5000]\n",
    "bin_names = [\"Small (<1000)\", \"Medium (1000-2000)\", \"Large (2000-5000)\"]\n",
    "#adding column with size ranges\n",
    "merged_school_summary_df[\"School Size Range\"] = pd.cut(merged_school_summary_df[\"Number of Students\"], bins, labels=bin_names, include_lowest=True)\n",
    "#grouped by size ranges\n",
    "grouped_by_size = merged_school_summary_df.groupby(\"School Size Range\")"
   ]
  },
  {
   "cell_type": "code",
   "execution_count": null,
   "metadata": {},
   "outputs": [],
   "source": [
    "#creation of averages per school size range\n",
    "score_by_size_df = pd.DataFrame({\"Average Math Score\": grouped_by_size[\"Average Math Score\"].mean(),\n",
    "                                  \"Average Reading Score\": grouped_by_size[\"Average Reading Score\"].mean(),\n",
    "                                  \"% Passing Math\": grouped_by_size[\"% Passing Math\"].mean(),\n",
    "                                  \"% Passing Reading\": grouped_by_size[\"% Passing Reading\"].mean(),\n",
    "                                   \"% Passing Overall\": grouped_by_size[\"% Passing Overall\"].mean()\n",
    "                                })"
   ]
  },
  {
   "cell_type": "code",
   "execution_count": null,
   "metadata": {},
   "outputs": [],
   "source": [
    "#group avgerages by school type\n",
    "grouped_by_type = merged_school_summary_df.groupby(\"Type\")"
   ]
  },
  {
   "cell_type": "code",
   "execution_count": null,
   "metadata": {},
   "outputs": [],
   "source": [
    "score_by_type_df = pd.DataFrame({\"Average Math Score\": grouped_by_type[\"Average Math Score\"].mean(),\n",
    "                                  \"Average Reading Score\": grouped_by_type[\"Average Reading Score\"].mean(),\n",
    "                                   \"% Passing Math\": grouped_by_type[\"% Passing Math\"].mean(),\n",
    "                                   \"% Passing Reading\": grouped_by_type[\"% Passing Reading\"].mean(),\n",
    "                                    \"% Passing Overall\": grouped_by_type[\"% Passing Overall\"].mean()\n",
    "                             })"
   ]
  },
  {
   "cell_type": "code",
   "execution_count": null,
   "metadata": {},
   "outputs": [],
   "source": [
    "#formatting data in all dataframes\n",
    "district_summary_df[\"Total Budget\"] = district_summary_df[\"Total Budget\"].map(\"${:,.2f}\".format)\n",
    "district_summary_df[\"% Passing Math\"] = district_summary_df[\"% Passing Math\"].map(\"{:.6f}\".format)\n",
    "district_summary_df[\"% Passing Reading\"] = district_summary_df[\"% Passing Reading\"].map(\"{:.6f}\".format)\n",
    "district_summary_df[\"% Passing Overall\"] = district_summary_df[\"% Passing Overall\"].map(\"{:.6f}\".format)\n",
    "#school summary\n",
    "merged_school_summary_df[\"School Budget\"] = merged_school_summary_df[\"School Budget\"].map(\"${:,.2f}\".format)\n",
    "merged_school_summary_df[\"Per Student Budget\"] = merged_school_summary_df[\"Per Student Budget\"].map(\"${:,.2f}\".format)\n",
    "merged_school_summary_df[\"% Passing Math\"] = merged_school_summary_df[\"% Passing Math\"].map(\"{:.6f}\".format)\n",
    "merged_school_summary_df[\"% Passing Reading\"] = merged_school_summary_df[\"% Passing Reading\"].map(\"{:.6f}\".format)\n",
    "merged_school_summary_df[\"% Passing Overall\"] = merged_school_summary_df[\"% Passing Overall\"].map(\"{:.6f}\".format)"
   ]
  },
  {
   "cell_type": "markdown",
   "metadata": {},
   "source": [
    "# District Summary"
   ]
  },
  {
   "cell_type": "code",
   "execution_count": null,
   "metadata": {},
   "outputs": [],
   "source": [
    " district_summary_df"
   ]
  },
  {
   "cell_type": "markdown",
   "metadata": {},
   "source": [
    "# School Summary"
   ]
  },
  {
   "cell_type": "code",
   "execution_count": null,
   "metadata": {},
   "outputs": [],
   "source": [
    "merged_school_summary_df"
   ]
  },
  {
   "cell_type": "markdown",
   "metadata": {},
   "source": [
    "# Top 5 Performing Schools (by % Overall Passing)"
   ]
  },
  {
   "cell_type": "code",
   "execution_count": null,
   "metadata": {},
   "outputs": [],
   "source": [
    "top_schools = merged_school_summary_df.sort_values(\"% Passing Overall\").tail()\n",
    "top_schools"
   ]
  },
  {
   "cell_type": "markdown",
   "metadata": {},
   "source": [
    "# Bottom 5 Performing Schools (by % Overall Passing)"
   ]
  },
  {
   "cell_type": "code",
   "execution_count": null,
   "metadata": {},
   "outputs": [],
   "source": [
    "bottom_schools = merged_school_summary_df.sort_values(\"% Passing Overall\").head()\n",
    "bottom_schools"
   ]
  },
  {
   "cell_type": "markdown",
   "metadata": {},
   "source": [
    "# Math Scores by Grade"
   ]
  },
  {
   "cell_type": "code",
   "execution_count": null,
   "metadata": {},
   "outputs": [],
   "source": [
    "avg_math_by_grade_df"
   ]
  },
  {
   "cell_type": "markdown",
   "metadata": {},
   "source": [
    "# Reading Scores by Grade"
   ]
  },
  {
   "cell_type": "code",
   "execution_count": null,
   "metadata": {},
   "outputs": [],
   "source": [
    "avg_read_by_grade_df"
   ]
  },
  {
   "cell_type": "markdown",
   "metadata": {},
   "source": [
    "# Scores by School Spending"
   ]
  },
  {
   "cell_type": "code",
   "execution_count": null,
   "metadata": {},
   "outputs": [],
   "source": [
    "score_by_budget_df"
   ]
  },
  {
   "cell_type": "markdown",
   "metadata": {},
   "source": [
    "# Scores by School size"
   ]
  },
  {
   "cell_type": "code",
   "execution_count": null,
   "metadata": {},
   "outputs": [],
   "source": [
    "score_by_size_df"
   ]
  },
  {
   "cell_type": "markdown",
   "metadata": {},
   "source": [
    "# Scores by School type"
   ]
  },
  {
   "cell_type": "code",
   "execution_count": null,
   "metadata": {},
   "outputs": [],
   "source": [
    "score_by_type_df"
   ]
  }
 ],
 "metadata": {
  "kernelspec": {
   "display_name": "Python [conda env:PythonData2] *",
   "language": "python",
   "name": "conda-env-PythonData2-py"
  },
  "language_info": {
   "codemirror_mode": {
    "name": "ipython",
    "version": 3
   },
   "file_extension": ".py",
   "mimetype": "text/x-python",
   "name": "python",
   "nbconvert_exporter": "python",
   "pygments_lexer": "ipython3",
   "version": "3.6.10"
  }
 },
 "nbformat": 4,
 "nbformat_minor": 4
}
